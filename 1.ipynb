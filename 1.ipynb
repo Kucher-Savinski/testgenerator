{
 "cells": [
  {
   "cell_type": "code",
   "execution_count": 5,
   "metadata": {
    "collapsed": true
   },
   "outputs": [
    {
     "name": "stdout",
     "output_type": "stream",
     "text": [
      "62.068965517241374\n",
      "2.1379310344827585\n",
      "5.862068965517242\n",
      "4.827586206896552\n",
      "0.0\n",
      "0.0\n"
     ]
    }
   ],
   "source": [
    "from ortools.linear_solver import pywraplp\n",
    "\n",
    "with open(\"add.txt\", \"r\") as f:\n",
    "    text = f.read()\n",
    "solver = pywraplp.Solver.CreateSolver('GLOP')\n",
    "arg = []\n",
    "for i in text:\n",
    "    if i != ' ' and i != '\\t':\n",
    "        arg.append(int(i))\n",
    "\n",
    "arg[3] = arg[3] - (arg[3]*2) # variable creating\n",
    "x1 = solver.NumVar(0,9999,'x1')\n",
    "x2 = solver.NumVar(0,9999,'x2')\n",
    "x3 = solver.NumVar(0,9999,'x3')\n",
    "x4 = solver.NumVar(0,9999,'x4')\n",
    "x5 = solver.NumVar(0,9999,'x5')\n",
    "\n",
    "ct1 = solver.Constraint(0, arg[4], 'ct1')# constraints creating\n",
    "ct1.SetCoefficient(x1, 2)\n",
    "ct1.SetCoefficient(x2, -3)\n",
    "ct1.SetCoefficient(x3, 4)\n",
    "ct1.SetCoefficient(x4, -1)\n",
    "ct1.SetCoefficient(x5, 2)\n",
    "\n",
    "ct2 = solver.Constraint(0, 16, 'ct2')\n",
    "ct2.SetCoefficient(x1, 2)\n",
    "ct2.SetCoefficient(x2, 1)\n",
    "ct2.SetCoefficient(x3, 1)\n",
    "ct2.SetCoefficient(x4, 1)\n",
    "\n",
    "ct3 = solver.Constraint(0, arg[5], 'ct3')\n",
    "ct3.SetCoefficient(x1, arg[7])\n",
    "ct3.SetCoefficient(x3, -1)\n",
    "ct3.SetCoefficient(x4, 2)\n",
    "\n",
    "ct4 = solver.Constraint(0, arg[6], 'ct4')\n",
    "ct3.SetCoefficient(x2, -1)\n",
    "ct4.SetCoefficient(x5, -1)\n",
    "\n",
    "ct5 = solver.Constraint(0, 8, 'ct5')\n",
    "ct5.SetCoefficient(x1, 1)\n",
    "ct5.SetCoefficient(x2, 1)\n",
    "\n",
    "ct6 = solver.Constraint(0, 3, 'ct6')\n",
    "ct6.SetCoefficient(x5, 1)\n",
    "\n",
    "objective = solver.Objective()# Objective function creating\n",
    "objective.SetCoefficient(x1, arg[0])\n",
    "objective.SetCoefficient(x2, arg[1])\n",
    "objective.SetCoefficient(x3, arg[2]) # -\n",
    "objective.SetCoefficient(x4, arg[3])\n",
    "objective.SetCoefficient(x5, 3)\n",
    "objective.SetMaximization()\n",
    "solver.Solve()# solving and showing results\n",
    "\n",
    "print(x1.solution_value()*arg[0]+x2.solution_value()*arg[1]+x3.solution_value()*arg[2]+x4.solution_value()*arg[3]+x5.solution_value())\n",
    "print(x1.solution_value())\n",
    "print(x2.solution_value())\n",
    "print(x3.solution_value())\n",
    "print(x4.solution_value())\n",
    "print(x5.solution_value())"
   ]
  }
 ],
 "metadata": {
  "kernelspec": {
   "display_name": "Python 3",
   "language": "python",
   "name": "python3"
  },
  "language_info": {
   "codemirror_mode": {
    "name": "ipython",
    "version": 2
   },
   "file_extension": ".py",
   "mimetype": "text/x-python",
   "name": "python",
   "nbconvert_exporter": "python",
   "pygments_lexer": "ipython2",
   "version": "2.7.6"
  }
 },
 "nbformat": 4,
 "nbformat_minor": 0
}